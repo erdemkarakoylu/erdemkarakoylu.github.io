{
  "cells": [
    {
      "cell_type": "markdown",
      "metadata": {},
      "source": [
        "---\n",
        "title: Pivoting\n",
        "author: Erdem Karaköylü\n",
        "date: '2022-01-15'\n",
        "description: A technique to solve the non-identifiability problem created by overparameterization in Bayesian models.\n",
        "categories:\n",
        "  - Python\n",
        "  - categorical regression\n",
        "  - pivoting\n",
        "  - overparameterization\n",
        "  - non-identifiability\n",
        "  - Bayesian A/B/n\n",
        "  - Bambi\n",
        "image: ''\n",
        "format:\n",
        "  html:\n",
        "    code-fold: true\n",
        "execute: \n",
        "    cache: true\n",
        "jupyter: python3\n",
        "draft: true\n",
        "---\n",
        "\n",
        "\n",
        "One of the problems I often encounter when working with Bayesian categorical regression is that it is very easy to formulate what looks like a model with parameter frugality and end up nonetheless with poor or lack of convergence altogether. Often time this is the result of overparameterization. \n"
      ],
      "id": "e198232d"
    }
  ],
  "metadata": {
    "kernelspec": {
      "name": "python3",
      "language": "python",
      "display_name": "Python 3 (ipykernel)",
      "path": "/Users/erdemkarakoylu/miniconda3/share/jupyter/kernels/python3"
    }
  },
  "nbformat": 4,
  "nbformat_minor": 5
}